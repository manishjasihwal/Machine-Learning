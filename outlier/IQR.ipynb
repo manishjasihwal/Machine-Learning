{
 "cells": [
  {
   "cell_type": "code",
   "execution_count": null,
   "metadata": {},
   "outputs": [],
   "source": [
    "from sklearn.datasets import make_blobs\n",
    "import numpy as np"
   ]
  },
  {
   "cell_type": "code",
   "execution_count": null,
   "metadata": {},
   "outputs": [],
   "source": [
    "#Creating 400 dsamples and creating 2 different feature like x1 and x2 with one center\n",
    "X , _=make_blobs(n_samples=400 , n_features=2 , centers=1 , shuffle=True , random_state=2)"
   ]
  },
  {
   "cell_type": "code",
   "execution_count": null,
   "metadata": {},
   "outputs": [],
   "source": [
    "import seaborn as sns\n",
    "sns.scatterplot(x=X[:,0] , y=X[:,1])"
   ]
  },
  {
   "cell_type": "code",
   "execution_count": 15,
   "metadata": {},
   "outputs": [],
   "source": [
    "def outlier_indices(x):\n",
    "    Q1, Q3 = np.percentile(x , [25 , 75])\n",
    "    IQR = Q3-Q1\n",
    "    lower_bound = Q1 - (1.5 * IQR)\n",
    "    upper_bound = Q1 + (1.5 * IQR)\n",
    "    outlier_index=np.where((x < lower_bound) | (x > upper_bound ))\n",
    "    return outlier_index"
   ]
  },
  {
   "cell_type": "code",
   "execution_count": null,
   "metadata": {},
   "outputs": [],
   "source": [
    "X"
   ]
  },
  {
   "cell_type": "code",
   "execution_count": null,
   "metadata": {},
   "outputs": [],
   "source": [
    "# Now I want only row with 0th column\n",
    "X[: , 0]"
   ]
  },
  {
   "attachments": {},
   "cell_type": "markdown",
   "metadata": {},
   "source": [
    "On this above single column , I want to apply IQR technique"
   ]
  },
  {
   "cell_type": "code",
   "execution_count": 16,
   "metadata": {},
   "outputs": [
    {
     "data": {
      "text/plain": [
       "(array([  8,   9,  15,  20,  25,  43,  70,  91,  98, 104, 106, 112, 125,\n",
       "        142, 144, 149, 155, 196, 199, 205, 227, 235, 238, 248, 262, 287,\n",
       "        293, 298, 319, 338, 345, 346, 354, 371, 373], dtype=int64),)"
      ]
     },
     "execution_count": 16,
     "metadata": {},
     "output_type": "execute_result"
    }
   ],
   "source": [
    "outlier_indices(X[:,0])"
   ]
  },
  {
   "attachments": {},
   "cell_type": "markdown",
   "metadata": {},
   "source": [
    "These all are the indexes of outlier. For value we have to do X[outlier_indices(X[:,0])]"
   ]
  },
  {
   "cell_type": "code",
   "execution_count": 17,
   "metadata": {},
   "outputs": [
    {
     "data": {
      "text/plain": [
       "array([[  0.08713347,  -8.26358973],\n",
       "       [  0.55523077,  -9.04078549],\n",
       "       [  1.04628894, -10.11552849],\n",
       "       [  0.02101847, -10.48278052],\n",
       "       [  0.5124909 ,  -9.91048868],\n",
       "       [  0.21684983, -11.01258647],\n",
       "       [  1.32359771,  -8.54555921],\n",
       "       [  0.17106794, -10.54640324],\n",
       "       [ -3.93955141,  -9.57292799],\n",
       "       [  0.65305501, -10.55227169],\n",
       "       [  0.63249872,  -9.52673857],\n",
       "       [  0.18757605,  -9.8171527 ],\n",
       "       [  0.33507431,  -9.05586915],\n",
       "       [  0.62191527, -10.0618584 ],\n",
       "       [  0.10367908,  -9.33312612],\n",
       "       [  1.20708262,  -9.93283642],\n",
       "       [  0.25165836, -11.46732114],\n",
       "       [  0.61683029, -10.11055451],\n",
       "       [  0.29678822, -10.88817495],\n",
       "       [  0.53198357, -11.5377411 ],\n",
       "       [  2.82859067,  -8.66035449],\n",
       "       [  1.1003825 , -10.35705669],\n",
       "       [  0.46171023,  -9.92897624],\n",
       "       [  0.14486508,  -9.92833326],\n",
       "       [  0.11024405, -11.13315496],\n",
       "       [  1.00243768,  -9.97725421],\n",
       "       [  1.99964344,  -8.51061404],\n",
       "       [  0.26818874,  -9.79730341],\n",
       "       [  0.05546421,  -9.17884603],\n",
       "       [  0.88236045,  -8.82392412],\n",
       "       [  0.34099102,  -8.76879209],\n",
       "       [  1.27033628, -10.95464861],\n",
       "       [  0.39744211, -10.81263709],\n",
       "       [  0.5508447 ,  -8.54129937],\n",
       "       [  0.36181268,  -9.16977766]])"
      ]
     },
     "execution_count": 17,
     "metadata": {},
     "output_type": "execute_result"
    }
   ],
   "source": [
    "X[outlier_indices(X[:,0])]"
   ]
  }
 ],
 "metadata": {
  "kernelspec": {
   "display_name": "Python 3",
   "language": "python",
   "name": "python3"
  },
  "language_info": {
   "codemirror_mode": {
    "name": "ipython",
    "version": 3
   },
   "file_extension": ".py",
   "mimetype": "text/x-python",
   "name": "python",
   "nbconvert_exporter": "python",
   "pygments_lexer": "ipython3",
   "version": "3.7.2"
  },
  "orig_nbformat": 4
 },
 "nbformat": 4,
 "nbformat_minor": 2
}
